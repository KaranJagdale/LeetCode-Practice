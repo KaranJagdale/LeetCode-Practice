{
  "nbformat": 4,
  "nbformat_minor": 0,
  "metadata": {
    "colab": {
      "provenance": [],
      "authorship_tag": "ABX9TyMPQfvAmMfn8p9mUbqayqEm",
      "include_colab_link": true
    },
    "kernelspec": {
      "name": "python3",
      "display_name": "Python 3"
    },
    "language_info": {
      "name": "python"
    }
  },
  "cells": [
    {
      "cell_type": "markdown",
      "metadata": {
        "id": "view-in-github",
        "colab_type": "text"
      },
      "source": [
        "<a href=\"https://colab.research.google.com/github/KaranJagdale/LeetCode-Practice/blob/main/practice.ipynb\" target=\"_parent\"><img src=\"https://colab.research.google.com/assets/colab-badge.svg\" alt=\"Open In Colab\"/></a>"
      ]
    },
    {
      "cell_type": "markdown",
      "source": [
        "\n",
        "\n",
        "### 217. Contains Duplicate\n",
        "In this problem we have to find if the given list of numbers contains duplicate and return boolean value based on that."
      ],
      "metadata": {
        "id": "ttN_4nRexgxf"
      }
    },
    {
      "cell_type": "code",
      "source": [
        "class Solution:\n",
        "    def containsDuplicate(self, nums: List[int]) -> bool:\n",
        "        mySet = set()\n",
        "        for i in range(len(nums)):\n",
        "            if nums[i] in mySet:\n",
        "                return True\n",
        "            else:\n",
        "                mySet.add(nums[i])\n",
        "        return False"
      ],
      "metadata": {
        "id": "452hVsiwxnKX"
      },
      "execution_count": null,
      "outputs": []
    },
    {
      "cell_type": "markdown",
      "source": [
        "### 238 Product of array except self\n",
        "\n",
        "Given an integer array nums, return an array answer such that **answer[i]** is equal to the product of all the elements of nums except **nums[i]**."
      ],
      "metadata": {
        "id": "W_dzwmggzL_w"
      }
    },
    {
      "cell_type": "code",
      "source": [
        "class Solution:\n",
        "    def productExceptSelf(self, nums: List[int]) -> List[int]:\n",
        "        fromStart = [1]*len(nums)\n",
        "        fromEnd = [1]*len(nums)\n",
        "        result = [0]*len(nums)\n",
        "        for i in range(0,len(nums)-1):\n",
        "            fromStart[i+1] = (fromStart[i] * nums[i])\n",
        "            fromEnd[i+1] = (fromEnd[i] * nums[len(nums) - i -1])\n",
        "        for i in range(len(nums)):\n",
        "            result[i] = (fromStart[i]*fromEnd[len(nums) - i - 1])\n",
        "        return result"
      ],
      "metadata": {
        "id": "rJRClGpu0NQ1"
      },
      "execution_count": null,
      "outputs": []
    },
    {
      "cell_type": "markdown",
      "source": [
        "## 674. Longest Continuous Increasing Subsequence\n",
        "\n",
        "Given an unsorted array of integers nums, return the length of the longest continuous increasing subsequence (i.e. subarray). The subsequence must be strictly increasing."
      ],
      "metadata": {
        "id": "sPghR-iv0Ule"
      }
    },
    {
      "cell_type": "code",
      "source": [
        "class Solution:\n",
        "    def findLengthOfLCIS(self, nums: List[int]) -> int:\n",
        "        j = 0\n",
        "        n = len(nums)\n",
        "        longArr = []\n",
        "        for i in range(n):\n",
        "            if i == n-1:\n",
        "                curLongArr = nums[j:i+1]\n",
        "                if len(curLongArr) > len(longArr):\n",
        "                    longArr = curLongArr\n",
        "            else:\n",
        "                if nums[i+1] <= nums[i] or i == n-1:\n",
        "                    curLongArr = nums[j:i+1]\n",
        "                    if len(curLongArr) > len(longArr):\n",
        "                        longArr = curLongArr\n",
        "                    j = i+1\n",
        "        return len(longArr)"
      ],
      "metadata": {
        "id": "v1j0AROn0h9-"
      },
      "execution_count": null,
      "outputs": []
    },
    {
      "cell_type": "markdown",
      "source": [
        "## 448. Find All Numbers Disappeared in an Array\n",
        "\n",
        "Given an array nums of n integers where **nums[i]** is in the range [1, n], return an array of all the integers in the range [1, n] that do not appear in nums."
      ],
      "metadata": {
        "id": "XcuuoeBF1nyU"
      }
    },
    {
      "cell_type": "code",
      "source": [
        "class Solution:\n",
        "    def findDisappearedNumbers(self, nums: List[int]) -> List[int]:\n",
        "        ret = []\n",
        "        nums_s = set(nums)\n",
        "        for i in range(1, len(nums)+1):\n",
        "            if i not in nums_s:\n",
        "                ret.append(i)\n",
        "        return ret"
      ],
      "metadata": {
        "id": "Yx8l2D521oAD"
      },
      "execution_count": null,
      "outputs": []
    },
    {
      "cell_type": "markdown",
      "source": [
        "## 242. Valid Anagram\n",
        "\n",
        "Given two strings *s* and *t*, return true if *t* is an anagram of *s*, and false otherwise."
      ],
      "metadata": {
        "id": "l-smuncN2KJS"
      }
    },
    {
      "cell_type": "code",
      "source": [
        "class Solution:\n",
        "    def isAnagram(self, s: str, t: str) -> bool:\n",
        "        ret = True\n",
        "        if len(s) != len(t):\n",
        "            ret = False\n",
        "        s_set = set(s)\n",
        "        for let in s_set:\n",
        "            if s.count(let) != t.count(let):\n",
        "                ret = False\n",
        "                break\n",
        "\n",
        "        return ret"
      ],
      "metadata": {
        "id": "v-Zuzgf52KOq"
      },
      "execution_count": null,
      "outputs": []
    },
    {
      "cell_type": "markdown",
      "source": [
        "## 338. Counting Bits\n",
        "\n",
        "Given an integer *n*, return an array ans of length *n + 1* such that for each *i (0 <= i <= n), ans[i]* is the number of 1's in the binary representation of *i*."
      ],
      "metadata": {
        "id": "HsjF7ZXaPjW8"
      }
    },
    {
      "cell_type": "code",
      "source": [
        "class Solution:\n",
        "    def countBits(self, n: int) -> List[int]:\n",
        "        res = [0]*(n+1)\n",
        "        for i in range(1, n+1 , 2):\n",
        "            numOfOnes = bin(i).count('1')\n",
        "            j = i\n",
        "            while j <= n:\n",
        "                res[j] = numOfOnes\n",
        "                j = j * 2\n",
        "        return res"
      ],
      "metadata": {
        "id": "R8WMiZruPjf3"
      },
      "execution_count": null,
      "outputs": []
    },
    {
      "cell_type": "markdown",
      "source": [
        "## 191. Number of 1 Bits\n",
        "\n",
        "Write a function that takes the binary representation of an unsigned integer and returns the number of '1' bits it has (also known as the Hamming weight)."
      ],
      "metadata": {
        "id": "x9NA6uDSP56q"
      }
    },
    {
      "cell_type": "code",
      "source": [
        "class Solution:\n",
        "    def hammingWeight(self, n: int) -> int:\n",
        "        #i = 0\n",
        "        res = 0\n",
        "        #print(type(n),bin(n))\n",
        "        bn = bin(n)\n",
        "        for i  in range(2,len(bin(n))):\n",
        "            if bn[i] == '1':\n",
        "                res = res +1\n",
        "        return res"
      ],
      "metadata": {
        "id": "8RgtTikyP6D8"
      },
      "execution_count": null,
      "outputs": []
    },
    {
      "cell_type": "markdown",
      "source": [
        "## 283. Move Zeroes\n",
        "\n",
        "Given an integer array nums, move all 0's to the end of it while maintaining the relative order of the non-zero elements.\n",
        "\n",
        "Note that you must do this in-place without making a copy of the array."
      ],
      "metadata": {
        "id": "dfhZ-vyRk4I8"
      }
    },
    {
      "cell_type": "code",
      "source": [
        "class Solution:\n",
        "    def moveZeroes(self, nums: List[int]) -> None:\n",
        "        n = len(nums)\n",
        "        i = 0\n",
        "        j = 0\n",
        "        while j < n:\n",
        "            if nums[i] == 0:\n",
        "                nums.pop(i)\n",
        "                nums.append(0)\n",
        "            else:\n",
        "                i += 1\n",
        "            j += 1"
      ],
      "metadata": {
        "id": "SXKnaBw3k7lS"
      },
      "execution_count": null,
      "outputs": []
    },
    {
      "cell_type": "markdown",
      "source": [
        "## 11. Container With Most Water\n",
        "\n",
        "You are given an integer array height of length n. There are n vertical lines drawn such that the two endpoints of the ith line are *(i, 0)* and *(i, height[i])*.\n",
        "\n",
        "Find two lines that together with the x-axis form a container, such that the container contains the most water.\n",
        "\n",
        "Return the maximum amount of water a container can store.\n",
        "\n",
        "Notice that you may not slant the container."
      ],
      "metadata": {
        "id": "vG8qKMci6MM9"
      }
    },
    {
      "cell_type": "code",
      "source": [
        "class Solution:\n",
        "    def maxArea(self, height: List[int]) -> int:\n",
        "        i, j = 0, len(height)-1\n",
        "        max_volume = 0\n",
        "        while True:\n",
        "            volume = min(height[i], height[j])*abs(j-i)\n",
        "            if volume > max_volume:\n",
        "                max_volume = volume\n",
        "            if abs(j-i) == 1:\n",
        "                break\n",
        "            if height[i] < height[j]:\n",
        "                i += 1\n",
        "            else:\n",
        "                j -= 1\n",
        "        return max_volume"
      ],
      "metadata": {
        "id": "nDFZGXk66MiZ"
      },
      "execution_count": null,
      "outputs": []
    },
    {
      "cell_type": "markdown",
      "source": [
        "## 2215. Find the Difference of Two Arrays\n",
        "\n",
        "Given two 0-indexed integer arrays nums1 and nums2, return a list answer of size 2 where:\n",
        "\n",
        "answer[0] is a list of all distinct integers in nums1 which are not present in nums2.\n",
        "answer[1] is a list of all distinct integers in nums2 which are not present in nums1.\n",
        "Note that the integers in the lists may be returned in any order."
      ],
      "metadata": {
        "id": "hTcBX6LewvBC"
      }
    },
    {
      "cell_type": "code",
      "source": [
        "class Solution:\n",
        "    def findDifference(self, nums1: List[int], nums2: List[int]) -> List[List[int]]:\n",
        "        #return [list(set(nums1).difference(set(nums2))), list(set(nums2).difference(set(nums1)))]\n",
        "        intersection = set(nums1).intersection(set(nums2))\n",
        "        return [list(set(nums1).difference(intersection)), list(set(nums2).difference(intersection))]\n"
      ],
      "metadata": {
        "id": "NDn36ETAwvJt",
        "outputId": "9e58d43c-d97e-4577-f3ae-a91776083e48",
        "colab": {
          "base_uri": "https://localhost:8080/",
          "height": 106
        }
      },
      "execution_count": null,
      "outputs": [
        {
          "output_type": "error",
          "ename": "SyntaxError",
          "evalue": "invalid syntax (<ipython-input-1-d8ae33517d21>, line 3)",
          "traceback": [
            "\u001b[0;36m  File \u001b[0;32m\"<ipython-input-1-d8ae33517d21>\"\u001b[0;36m, line \u001b[0;32m3\u001b[0m\n\u001b[0;31m    Given two 0-indexed integer arrays nums1 and nums2, return a list answer of size 2 where:\u001b[0m\n\u001b[0m          ^\u001b[0m\n\u001b[0;31mSyntaxError\u001b[0m\u001b[0;31m:\u001b[0m invalid syntax\n"
          ]
        }
      ]
    },
    {
      "cell_type": "markdown",
      "source": [
        "## 1207. Unique Number of Occurrences\n",
        "\n",
        "Given an array of integers arr, return true if the number of occurrences of each value in the array is unique or false otherwise."
      ],
      "metadata": {
        "id": "FZSJo0Ji_CGF"
      }
    },
    {
      "cell_type": "code",
      "source": [
        "class Solution:\n",
        "    def uniqueOccurrences(self, arr: List[int]) -> bool:\n",
        "        count_array = []\n",
        "        arr.sort()\n",
        "        i_prev = -1\n",
        "        for i in range(len(arr)):\n",
        "            if i == len(arr) - 1 or arr[i] != arr[min(len(arr) -1, i+1)]:\n",
        "                count_array.append(i - i_prev)\n",
        "                i_prev = i\n",
        "        return len(count_array) == len(set(count_array))"
      ],
      "metadata": {
        "id": "xgjn3-S3_EIU"
      },
      "execution_count": null,
      "outputs": []
    },
    {
      "cell_type": "markdown",
      "source": [
        "## 1657. Determine if Two Strings Are Close\n",
        "Two strings are considered close if you can attain one from the other using the following operations:\n",
        "\n",
        "Operation 1: Swap any two existing characters.\n",
        "For example, abcde -> aecdb\n",
        "\n",
        "Operation 2: Transform every occurrence of one existing character into another existing character, and do the same with the other character.\n",
        "For example, aacabb -> bbcbaa (all a's turn into b's, and all b's turn into a's)\n",
        "You can use the operations on either string as many times as necessary.\n",
        "\n",
        "Given two strings, word1 and word2, return true if word1 and word2 are close, and false otherwise.\n",
        "\n"
      ],
      "metadata": {
        "id": "X_qZAkF9TgC5"
      }
    },
    {
      "cell_type": "code",
      "source": [
        "class Solution:\n",
        "    def closeStrings(self, word1: str, word2: str) -> bool:\n",
        "        if set(word1) != set(word2):\n",
        "            print('here')\n",
        "            return False\n",
        "        else:\n",
        "            word1_freq = []\n",
        "            for char in set(word1):\n",
        "                word1_freq.append(word1.count(char))\n",
        "            word2_freq = []\n",
        "            for char in set(word2):\n",
        "                word2_freq.append(word2.count(char))\n",
        "            word1_freq.sort()\n",
        "            word2_freq.sort()\n",
        "            print(word1_freq, word2_freq)\n",
        "            for i in range(len(set(word1))):\n",
        "                if word1_freq[i] != word2_freq[i]:\n",
        "                    return False\n",
        "            return True"
      ],
      "metadata": {
        "id": "n220reggTgPN"
      },
      "execution_count": null,
      "outputs": []
    }
  ]
}