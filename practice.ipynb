{
  "nbformat": 4,
  "nbformat_minor": 0,
  "metadata": {
    "colab": {
      "provenance": [],
      "authorship_tag": "ABX9TyMTq0VoUvOJectxPbPMpikO",
      "include_colab_link": true
    },
    "kernelspec": {
      "name": "python3",
      "display_name": "Python 3"
    },
    "language_info": {
      "name": "python"
    }
  },
  "cells": [
    {
      "cell_type": "markdown",
      "metadata": {
        "id": "view-in-github",
        "colab_type": "text"
      },
      "source": [
        "<a href=\"https://colab.research.google.com/github/KaranJagdale/LeetCode-Practice/blob/main/practice.ipynb\" target=\"_parent\"><img src=\"https://colab.research.google.com/assets/colab-badge.svg\" alt=\"Open In Colab\"/></a>"
      ]
    },
    {
      "cell_type": "markdown",
      "source": [
        "\n",
        "\n",
        "### 217. Contains Duplicate\n",
        "In this problem we have to find if the given list of numbers contains duplicate and return boolean value based on that."
      ],
      "metadata": {
        "id": "ttN_4nRexgxf"
      }
    },
    {
      "cell_type": "code",
      "source": [
        "class Solution:\n",
        "    def containsDuplicate(self, nums: List[int]) -> bool:\n",
        "        mySet = set()\n",
        "        for i in range(len(nums)):\n",
        "            if nums[i] in mySet:\n",
        "                return True\n",
        "            else:\n",
        "                mySet.add(nums[i])\n",
        "        return False"
      ],
      "metadata": {
        "id": "452hVsiwxnKX"
      },
      "execution_count": null,
      "outputs": []
    },
    {
      "cell_type": "markdown",
      "source": [
        "### 238 Product of array except self\n",
        "\n",
        "Given an integer array nums, return an array answer such that **answer[i]** is equal to the product of all the elements of nums except **nums[i]**."
      ],
      "metadata": {
        "id": "W_dzwmggzL_w"
      }
    },
    {
      "cell_type": "code",
      "source": [
        "class Solution:\n",
        "    def productExceptSelf(self, nums: List[int]) -> List[int]:\n",
        "        fromStart = [1]*len(nums)\n",
        "        fromEnd = [1]*len(nums)\n",
        "        result = [0]*len(nums)\n",
        "        for i in range(0,len(nums)-1):\n",
        "            fromStart[i+1] = (fromStart[i] * nums[i])\n",
        "            fromEnd[i+1] = (fromEnd[i] * nums[len(nums) - i -1])\n",
        "        for i in range(len(nums)):\n",
        "            result[i] = (fromStart[i]*fromEnd[len(nums) - i - 1])\n",
        "        return result"
      ],
      "metadata": {
        "id": "rJRClGpu0NQ1"
      },
      "execution_count": null,
      "outputs": []
    },
    {
      "cell_type": "markdown",
      "source": [
        "## 674. Longest Continuous Increasing Subsequence\n",
        "\n",
        "Given an unsorted array of integers nums, return the length of the longest continuous increasing subsequence (i.e. subarray). The subsequence must be strictly increasing."
      ],
      "metadata": {
        "id": "sPghR-iv0Ule"
      }
    },
    {
      "cell_type": "code",
      "source": [
        "class Solution:\n",
        "    def findLengthOfLCIS(self, nums: List[int]) -> int:\n",
        "        j = 0\n",
        "        n = len(nums)\n",
        "        longArr = []\n",
        "        for i in range(n):\n",
        "            if i == n-1:\n",
        "                curLongArr = nums[j:i+1]\n",
        "                if len(curLongArr) > len(longArr):\n",
        "                    longArr = curLongArr\n",
        "            else:\n",
        "                if nums[i+1] <= nums[i] or i == n-1:\n",
        "                    curLongArr = nums[j:i+1]\n",
        "                    if len(curLongArr) > len(longArr):\n",
        "                        longArr = curLongArr\n",
        "                    j = i+1\n",
        "        return len(longArr)"
      ],
      "metadata": {
        "id": "v1j0AROn0h9-"
      },
      "execution_count": null,
      "outputs": []
    },
    {
      "cell_type": "markdown",
      "source": [
        "## 448. Find All Numbers Disappeared in an Array\n",
        "\n",
        "Given an array nums of n integers where **nums[i]** is in the range [1, n], return an array of all the integers in the range [1, n] that do not appear in nums."
      ],
      "metadata": {
        "id": "XcuuoeBF1nyU"
      }
    },
    {
      "cell_type": "code",
      "source": [
        "class Solution:\n",
        "    def findDisappearedNumbers(self, nums: List[int]) -> List[int]:\n",
        "        ret = []\n",
        "        nums_s = set(nums)\n",
        "        for i in range(1, len(nums)+1):\n",
        "            if i not in nums_s:\n",
        "                ret.append(i)\n",
        "        return ret"
      ],
      "metadata": {
        "id": "Yx8l2D521oAD"
      },
      "execution_count": null,
      "outputs": []
    },
    {
      "cell_type": "markdown",
      "source": [
        "## 242. Valid Anagram\n",
        "\n",
        "Given two strings *s* and *t*, return true if *t* is an anagram of *s*, and false otherwise."
      ],
      "metadata": {
        "id": "l-smuncN2KJS"
      }
    },
    {
      "cell_type": "code",
      "source": [
        "class Solution:\n",
        "    def isAnagram(self, s: str, t: str) -> bool:\n",
        "        ret = True\n",
        "        if len(s) != len(t):\n",
        "            ret = False\n",
        "        s_set = set(s)\n",
        "        for let in s_set:\n",
        "            if s.count(let) != t.count(let):\n",
        "                ret = False\n",
        "                break\n",
        "\n",
        "        return ret"
      ],
      "metadata": {
        "id": "v-Zuzgf52KOq"
      },
      "execution_count": null,
      "outputs": []
    },
    {
      "cell_type": "markdown",
      "source": [
        "## 338. Counting Bits\n",
        "\n",
        "Given an integer *n*, return an array ans of length *n + 1* such that for each *i (0 <= i <= n), ans[i]* is the number of 1's in the binary representation of *i*."
      ],
      "metadata": {
        "id": "HsjF7ZXaPjW8"
      }
    },
    {
      "cell_type": "code",
      "source": [
        "class Solution:\n",
        "    def countBits(self, n: int) -> List[int]:\n",
        "        res = [0]*(n+1)\n",
        "        for i in range(1, n+1 , 2):\n",
        "            numOfOnes = bin(i).count('1')\n",
        "            j = i\n",
        "            while j <= n:\n",
        "                res[j] = numOfOnes\n",
        "                j = j * 2\n",
        "        return res"
      ],
      "metadata": {
        "id": "R8WMiZruPjf3"
      },
      "execution_count": null,
      "outputs": []
    },
    {
      "cell_type": "markdown",
      "source": [
        "## 191. Number of 1 Bits\n",
        "\n",
        "Write a function that takes the binary representation of an unsigned integer and returns the number of '1' bits it has (also known as the Hamming weight)."
      ],
      "metadata": {
        "id": "x9NA6uDSP56q"
      }
    },
    {
      "cell_type": "code",
      "source": [
        "class Solution:\n",
        "    def hammingWeight(self, n: int) -> int:\n",
        "        #i = 0\n",
        "        res = 0\n",
        "        #print(type(n),bin(n))\n",
        "        bn = bin(n)\n",
        "        for i  in range(2,len(bin(n))):\n",
        "            if bn[i] == '1':\n",
        "                res = res +1\n",
        "        return res"
      ],
      "metadata": {
        "id": "8RgtTikyP6D8"
      },
      "execution_count": null,
      "outputs": []
    }
  ]
}